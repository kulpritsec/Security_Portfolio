{
 "cells": [
  {
   "attachments": {},
   "cell_type": "markdown",
   "metadata": {},
   "source": [
    "Code portfolio "
   ]
  },
  {
   "cell_type": "code",
   "execution_count": 5,
   "metadata": {},
   "outputs": [
    {
     "name": "stdout",
     "output_type": "stream",
     "text": [
      "Requirement already satisfied: psutil in c:\\users\\seanw\\anaconda3\\lib\\site-packages (5.8.0)\n",
      "Audit assessment criteria review\n"
     ]
    }
   ],
   "source": [
    "#playing with python\n",
    "\n",
    "#Building a response process in python\n",
    "\n",
    "#Audit playbook \n",
    "\n",
    "#libaries\n",
    "!pip3 install psutil\n",
    "\n",
    "print(\"Audit assessment criteria review\")\n"
   ]
  },
  {
   "cell_type": "code",
   "execution_count": 6,
   "metadata": {},
   "outputs": [
    {
     "name": "stdout",
     "output_type": "stream",
     "text": [
      "Machine Name: DESKTOP-K8PTKUE\n",
      "Operating System: Windows\n",
      "Version: 10.0.22621\n",
      "Storage: 237.15GB\n",
      "Free Storage: 14.06GB\n",
      "Memory: 15.60GB\n",
      "CPU: Intel64 Family 6 Model 126 Stepping 5, GenuineIntel\n"
     ]
    }
   ],
   "source": [
    "#local machine fundamentals\n",
    "import platform\n",
    "import psutil\n",
    "import subprocess\n",
    "import re\n",
    "\n",
    "# Get machine name\n",
    "name = platform.node()\n",
    "\n",
    "# Get OS and version\n",
    "os = platform.system()\n",
    "version = platform.release()\n",
    "\n",
    "# Get storage\n",
    "storage = psutil.disk_usage('/')\n",
    "\n",
    "# Get memory\n",
    "memory = psutil.virtual_memory()\n",
    "\n",
    "# Get CPU info\n",
    "cpu = platform.processor()\n",
    "\n",
    "# Get detailed Windows version\n",
    "if os == 'Windows':\n",
    "    cmd = 'systeminfo | findstr /B /C:\"OS Version\"'\n",
    "    version = subprocess.check_output(cmd, shell=True).strip().decode()\n",
    "\n",
    "    # Parse out the actual version number\n",
    "    version_number = re.search(r'\\d+\\.\\d+\\.\\d+', version)\n",
    "    if version_number:\n",
    "        version = version_number.group()\n",
    "\n",
    "print(f\"Machine Name: {name}\")\n",
    "print(f\"Operating System: {os}\")\n",
    "print(f\"Version: {version}\")\n",
    "print(f\"Storage: {storage.total / (2**30):.2f}GB\")\n",
    "print(f\"Free Storage: {storage.free / (2**30):.2f}GB\")\n",
    "print(f\"Memory: {memory.total / (2**30):.2f}GB\")\n",
    "print(f\"CPU: {cpu}\")"
   ]
  },
  {
   "cell_type": "code",
   "execution_count": 18,
   "metadata": {},
   "outputs": [
    {
     "name": "stdout",
     "output_type": "stream",
     "text": [
      "Windows\n",
      "AutoAdminLogon: \n",
      "SafeDllSearchMode: \n",
      "WarningLevel: \n"
     ]
    }
   ],
   "source": [
    "import platform\n",
    "import subprocess\n",
    "\n",
    "# Helper function to run commands and return the output\n",
    "def run_command(cmd):\n",
    "    result = subprocess.run(cmd, text=True, shell=True, capture_output=True)\n",
    "    return result.stdout.strip()\n",
    "\n",
    "# Get the OS information\n",
    "os_info = platform.system()\n",
    "print(os_info)\n",
    "\n",
    "# Define the CIS benchmark checks for each OS\n",
    "def windows_cis_benchmark():\n",
    "    # 2.3.4.1 (L1) Ensure 'MSS: (AutoAdminLogon) Enable Automatic Logon (not recommended)' is set to 'Disabled'\n",
    "    auto_admin_logon = run_command('reg query \"HKLM\\\\SYSTEM\\\\CurrentControlSet\\\\Services\\\\Netlogon\\\\Parameters\" /v AutoAdminLogon')\n",
    "    print(f'AutoAdminLogon: {auto_admin_logon}')\n",
    "\n",
    "    # 2.3.10.5 (L1) Ensure 'MSS: (SafeDllSearchMode) Enable Safe DLL search mode' is set to 'Enabled'\n",
    "    safe_dll_search_mode = run_command('reg query \"HKLM\\\\SYSTEM\\\\CurrentControlSet\\\\Control\\\\Session Manager\" /v SafeDllSearchMode')\n",
    "    print(f'SafeDllSearchMode: {safe_dll_search_mode}')\n",
    "\n",
    "    # 2.3.11.6 (L2) Ensure 'MSS: (WarningLevel) Percentage threshold for the security event log at which the system will generate a warning' is set to '90' or less\n",
    "    warning_level = run_command('reg query \"HKLM\\\\SYSTEM\\\\CurrentControlSet\\\\Services\\\\EventLog\\\\Security\" /v WarningLevel')\n",
    "    print(f'WarningLevel: {warning_level}')\n",
    "\n",
    "    # ... additional checks can be added here\n",
    "\n",
    "def linux_cis_benchmark():\n",
    "    # Here, you would implement similar checks for a Linux system using Linux commands\n",
    "    # Example: check if the system is running the latest kernel version\n",
    "    kernel_version = run_command('uname -r')\n",
    "    print(f'Kernel version: {kernel_version}')\n",
    "    \n",
    "    # ... additional checks can be added here\n",
    "\n",
    "# Apply the relevant CIS benchmark checks based on the detected OS\n",
    "if os_info == 'Windows':\n",
    "    windows_cis_benchmark()\n",
    "elif os_info == 'Linux':\n",
    "    linux_cis_benchmark()\n",
    "else:\n",
    "    print(f'No CIS benchmarks checks implemented for {os_info}')\n"
   ]
  },
  {
   "cell_type": "code",
   "execution_count": 20,
   "metadata": {},
   "outputs": [
    {
     "name": "stdout",
     "output_type": "stream",
     "text": [
      "Force user logoff how long after time expires?:       Never\n",
      "Minimum password age (days):                          0\n",
      "Maximum password age (days):                          42\n",
      "Minimum password length:                              0\n",
      "Length of password history maintained:                None\n",
      "Lockout threshold:                                    Never\n",
      "Lockout duration (minutes):                           30\n",
      "Lockout observation window (minutes):                 30\n",
      "Computer role:                                        WORKSTATION\n",
      "The command completed successfully.\n"
     ]
    }
   ],
   "source": [
    "import platform\n",
    "import subprocess\n",
    "\n",
    "# Helper function to run commands and return the output\n",
    "def run_command(cmd):\n",
    "    result = subprocess.run(cmd, text=True, shell=True, capture_output=True)\n",
    "    return result.stdout.strip()\n",
    "\n",
    "# Get the OS information\n",
    "os_info = platform.system()\n",
    "\n",
    "# Define a function to check password policies on a Windows system\n",
    "def check_password_policies():\n",
    "    # Use the 'net accounts' command to get password policies\n",
    "    cmd = 'net accounts'\n",
    "    policies = run_command(cmd)\n",
    "    print(policies)\n",
    "\n",
    "# If the system is Windows, check the password policies\n",
    "if os_info == 'Windows':\n",
    "    check_password_policies()\n",
    "else:\n",
    "    print(f'Password policies are not applicable for {os_info}.')\n"
   ]
  },
  {
   "cell_type": "code",
   "execution_count": 21,
   "metadata": {},
   "outputs": [
    {
     "name": "stdout",
     "output_type": "stream",
     "text": [
      "PowerShell Transcription status: \n",
      "PowerShell Script Block Logging status: \n",
      "PowerShell execution policy: Restricted\n"
     ]
    }
   ],
   "source": [
    "import platform\n",
    "import subprocess\n",
    "\n",
    "# Helper function to run commands and return the output\n",
    "def run_command(cmd):\n",
    "    result = subprocess.run(cmd, text=True, shell=True, capture_output=True)\n",
    "    return result.stdout.strip()\n",
    "\n",
    "# Get the OS information\n",
    "os_info = platform.system()\n",
    "\n",
    "# Define a function to check PowerShell policies on a Windows system\n",
    "def check_powershell_policies():\n",
    "    # Check PowerShell Transcription status\n",
    "    transcription_status = run_command(\"powershell Get-ItemProperty -Path 'HKLM:\\\\Software\\\\Policies\\\\Microsoft\\\\Windows\\\\PowerShell\\\\Transcription' -Name EnableTranscripting\")\n",
    "    print(f\"PowerShell Transcription status: {transcription_status}\")\n",
    "\n",
    "    # Check PowerShell Script Block Logging status\n",
    "    script_block_logging_status = run_command(\"powershell Get-ItemProperty -Path 'HKLM:\\\\Software\\\\Policies\\\\Microsoft\\\\Windows\\\\PowerShell\\\\ScriptBlockLogging' -Name EnableScriptBlockLogging\")\n",
    "    print(f\"PowerShell Script Block Logging status: {script_block_logging_status}\")\n",
    "\n",
    "    # Check PowerShell execution policy\n",
    "    execution_policy = run_command(\"powershell Get-ExecutionPolicy\")\n",
    "    print(f\"PowerShell execution policy: {execution_policy}\")\n",
    "\n",
    "# If the system is Windows, check the PowerShell policies\n",
    "if os_info == 'Windows':\n",
    "    check_powershell_policies()\n",
    "else:\n",
    "    print(f'PowerShell policies are not applicable for {os_info}.')\n"
   ]
  }
 ],
 "metadata": {
  "kernelspec": {
   "display_name": "base",
   "language": "python",
   "name": "python3"
  },
  "language_info": {
   "codemirror_mode": {
    "name": "ipython",
    "version": 3
   },
   "file_extension": ".py",
   "mimetype": "text/x-python",
   "name": "python",
   "nbconvert_exporter": "python",
   "pygments_lexer": "ipython3",
   "version": "3.8.8"
  },
  "orig_nbformat": 4
 },
 "nbformat": 4,
 "nbformat_minor": 2
}
